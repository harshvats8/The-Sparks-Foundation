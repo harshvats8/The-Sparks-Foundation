{
  "nbformat": 4,
  "nbformat_minor": 0,
  "metadata": {
    "colab": {
      "name": "student.ipynb",
      "provenance": [],
      "collapsed_sections": []
    },
    "kernelspec": {
      "name": "python3",
      "display_name": "Python 3"
    }
  },
  "cells": [
    {
      "cell_type": "markdown",
      "metadata": {
        "id": "oV0We8eywEv8"
      },
      "source": [
        "#AUTHOR :  HARSH VATS\n",
        "# TASK 1: Prediction using Supervised ML\n"
      ]
    },
    {
      "cell_type": "code",
      "metadata": {
        "id": "JyyOIfQsK2NG"
      },
      "source": [
        "import numpy as np\n",
        "import pandas as pd\n",
        "import matplotlib.pyplot as plt\n",
        "from sklearn.model_selection import train_test_split\n",
        "from sklearn.decomposition import PCA\n",
        "%matplotlib inline"
      ],
      "execution_count": null,
      "outputs": []
    },
    {
      "cell_type": "code",
      "metadata": {
        "id": "QvQ3fDDOLItk",
        "colab": {
          "resources": {
            "http://localhost:8080/nbextensions/google.colab/files.js": {
              "data": "Ly8gQ29weXJpZ2h0IDIwMTcgR29vZ2xlIExMQwovLwovLyBMaWNlbnNlZCB1bmRlciB0aGUgQXBhY2hlIExpY2Vuc2UsIFZlcnNpb24gMi4wICh0aGUgIkxpY2Vuc2UiKTsKLy8geW91IG1heSBub3QgdXNlIHRoaXMgZmlsZSBleGNlcHQgaW4gY29tcGxpYW5jZSB3aXRoIHRoZSBMaWNlbnNlLgovLyBZb3UgbWF5IG9idGFpbiBhIGNvcHkgb2YgdGhlIExpY2Vuc2UgYXQKLy8KLy8gICAgICBodHRwOi8vd3d3LmFwYWNoZS5vcmcvbGljZW5zZXMvTElDRU5TRS0yLjAKLy8KLy8gVW5sZXNzIHJlcXVpcmVkIGJ5IGFwcGxpY2FibGUgbGF3IG9yIGFncmVlZCB0byBpbiB3cml0aW5nLCBzb2Z0d2FyZQovLyBkaXN0cmlidXRlZCB1bmRlciB0aGUgTGljZW5zZSBpcyBkaXN0cmlidXRlZCBvbiBhbiAiQVMgSVMiIEJBU0lTLAovLyBXSVRIT1VUIFdBUlJBTlRJRVMgT1IgQ09ORElUSU9OUyBPRiBBTlkgS0lORCwgZWl0aGVyIGV4cHJlc3Mgb3IgaW1wbGllZC4KLy8gU2VlIHRoZSBMaWNlbnNlIGZvciB0aGUgc3BlY2lmaWMgbGFuZ3VhZ2UgZ292ZXJuaW5nIHBlcm1pc3Npb25zIGFuZAovLyBsaW1pdGF0aW9ucyB1bmRlciB0aGUgTGljZW5zZS4KCi8qKgogKiBAZmlsZW92ZXJ2aWV3IEhlbHBlcnMgZm9yIGdvb2dsZS5jb2xhYiBQeXRob24gbW9kdWxlLgogKi8KKGZ1bmN0aW9uKHNjb3BlKSB7CmZ1bmN0aW9uIHNwYW4odGV4dCwgc3R5bGVBdHRyaWJ1dGVzID0ge30pIHsKICBjb25zdCBlbGVtZW50ID0gZG9jdW1lbnQuY3JlYXRlRWxlbWVudCgnc3BhbicpOwogIGVsZW1lbnQudGV4dENvbnRlbnQgPSB0ZXh0OwogIGZvciAoY29uc3Qga2V5IG9mIE9iamVjdC5rZXlzKHN0eWxlQXR0cmlidXRlcykpIHsKICAgIGVsZW1lbnQuc3R5bGVba2V5XSA9IHN0eWxlQXR0cmlidXRlc1trZXldOwogIH0KICByZXR1cm4gZWxlbWVudDsKfQoKLy8gTWF4IG51bWJlciBvZiBieXRlcyB3aGljaCB3aWxsIGJlIHVwbG9hZGVkIGF0IGEgdGltZS4KY29uc3QgTUFYX1BBWUxPQURfU0laRSA9IDEwMCAqIDEwMjQ7CgpmdW5jdGlvbiBfdXBsb2FkRmlsZXMoaW5wdXRJZCwgb3V0cHV0SWQpIHsKICBjb25zdCBzdGVwcyA9IHVwbG9hZEZpbGVzU3RlcChpbnB1dElkLCBvdXRwdXRJZCk7CiAgY29uc3Qgb3V0cHV0RWxlbWVudCA9IGRvY3VtZW50LmdldEVsZW1lbnRCeUlkKG91dHB1dElkKTsKICAvLyBDYWNoZSBzdGVwcyBvbiB0aGUgb3V0cHV0RWxlbWVudCB0byBtYWtlIGl0IGF2YWlsYWJsZSBmb3IgdGhlIG5leHQgY2FsbAogIC8vIHRvIHVwbG9hZEZpbGVzQ29udGludWUgZnJvbSBQeXRob24uCiAgb3V0cHV0RWxlbWVudC5zdGVwcyA9IHN0ZXBzOwoKICByZXR1cm4gX3VwbG9hZEZpbGVzQ29udGludWUob3V0cHV0SWQpOwp9CgovLyBUaGlzIGlzIHJvdWdobHkgYW4gYXN5bmMgZ2VuZXJhdG9yIChub3Qgc3VwcG9ydGVkIGluIHRoZSBicm93c2VyIHlldCksCi8vIHdoZXJlIHRoZXJlIGFyZSBtdWx0aXBsZSBhc3luY2hyb25vdXMgc3RlcHMgYW5kIHRoZSBQeXRob24gc2lkZSBpcyBnb2luZwovLyB0byBwb2xsIGZvciBjb21wbGV0aW9uIG9mIGVhY2ggc3RlcC4KLy8gVGhpcyB1c2VzIGEgUHJvbWlzZSB0byBibG9jayB0aGUgcHl0aG9uIHNpZGUgb24gY29tcGxldGlvbiBvZiBlYWNoIHN0ZXAsCi8vIHRoZW4gcGFzc2VzIHRoZSByZXN1bHQgb2YgdGhlIHByZXZpb3VzIHN0ZXAgYXMgdGhlIGlucHV0IHRvIHRoZSBuZXh0IHN0ZXAuCmZ1bmN0aW9uIF91cGxvYWRGaWxlc0NvbnRpbnVlKG91dHB1dElkKSB7CiAgY29uc3Qgb3V0cHV0RWxlbWVudCA9IGRvY3VtZW50LmdldEVsZW1lbnRCeUlkKG91dHB1dElkKTsKICBjb25zdCBzdGVwcyA9IG91dHB1dEVsZW1lbnQuc3RlcHM7CgogIGNvbnN0IG5leHQgPSBzdGVwcy5uZXh0KG91dHB1dEVsZW1lbnQubGFzdFByb21pc2VWYWx1ZSk7CiAgcmV0dXJuIFByb21pc2UucmVzb2x2ZShuZXh0LnZhbHVlLnByb21pc2UpLnRoZW4oKHZhbHVlKSA9PiB7CiAgICAvLyBDYWNoZSB0aGUgbGFzdCBwcm9taXNlIHZhbHVlIHRvIG1ha2UgaXQgYXZhaWxhYmxlIHRvIHRoZSBuZXh0CiAgICAvLyBzdGVwIG9mIHRoZSBnZW5lcmF0b3IuCiAgICBvdXRwdXRFbGVtZW50Lmxhc3RQcm9taXNlVmFsdWUgPSB2YWx1ZTsKICAgIHJldHVybiBuZXh0LnZhbHVlLnJlc3BvbnNlOwogIH0pOwp9CgovKioKICogR2VuZXJhdG9yIGZ1bmN0aW9uIHdoaWNoIGlzIGNhbGxlZCBiZXR3ZWVuIGVhY2ggYXN5bmMgc3RlcCBvZiB0aGUgdXBsb2FkCiAqIHByb2Nlc3MuCiAqIEBwYXJhbSB7c3RyaW5nfSBpbnB1dElkIEVsZW1lbnQgSUQgb2YgdGhlIGlucHV0IGZpbGUgcGlja2VyIGVsZW1lbnQuCiAqIEBwYXJhbSB7c3RyaW5nfSBvdXRwdXRJZCBFbGVtZW50IElEIG9mIHRoZSBvdXRwdXQgZGlzcGxheS4KICogQHJldHVybiB7IUl0ZXJhYmxlPCFPYmplY3Q+fSBJdGVyYWJsZSBvZiBuZXh0IHN0ZXBzLgogKi8KZnVuY3Rpb24qIHVwbG9hZEZpbGVzU3RlcChpbnB1dElkLCBvdXRwdXRJZCkgewogIGNvbnN0IGlucHV0RWxlbWVudCA9IGRvY3VtZW50LmdldEVsZW1lbnRCeUlkKGlucHV0SWQpOwogIGlucHV0RWxlbWVudC5kaXNhYmxlZCA9IGZhbHNlOwoKICBjb25zdCBvdXRwdXRFbGVtZW50ID0gZG9jdW1lbnQuZ2V0RWxlbWVudEJ5SWQob3V0cHV0SWQpOwogIG91dHB1dEVsZW1lbnQuaW5uZXJIVE1MID0gJyc7CgogIGNvbnN0IHBpY2tlZFByb21pc2UgPSBuZXcgUHJvbWlzZSgocmVzb2x2ZSkgPT4gewogICAgaW5wdXRFbGVtZW50LmFkZEV2ZW50TGlzdGVuZXIoJ2NoYW5nZScsIChlKSA9PiB7CiAgICAgIHJlc29sdmUoZS50YXJnZXQuZmlsZXMpOwogICAgfSk7CiAgfSk7CgogIGNvbnN0IGNhbmNlbCA9IGRvY3VtZW50LmNyZWF0ZUVsZW1lbnQoJ2J1dHRvbicpOwogIGlucHV0RWxlbWVudC5wYXJlbnRFbGVtZW50LmFwcGVuZENoaWxkKGNhbmNlbCk7CiAgY2FuY2VsLnRleHRDb250ZW50ID0gJ0NhbmNlbCB1cGxvYWQnOwogIGNvbnN0IGNhbmNlbFByb21pc2UgPSBuZXcgUHJvbWlzZSgocmVzb2x2ZSkgPT4gewogICAgY2FuY2VsLm9uY2xpY2sgPSAoKSA9PiB7CiAgICAgIHJlc29sdmUobnVsbCk7CiAgICB9OwogIH0pOwoKICAvLyBXYWl0IGZvciB0aGUgdXNlciB0byBwaWNrIHRoZSBmaWxlcy4KICBjb25zdCBmaWxlcyA9IHlpZWxkIHsKICAgIHByb21pc2U6IFByb21pc2UucmFjZShbcGlja2VkUHJvbWlzZSwgY2FuY2VsUHJvbWlzZV0pLAogICAgcmVzcG9uc2U6IHsKICAgICAgYWN0aW9uOiAnc3RhcnRpbmcnLAogICAgfQogIH07CgogIGNhbmNlbC5yZW1vdmUoKTsKCiAgLy8gRGlzYWJsZSB0aGUgaW5wdXQgZWxlbWVudCBzaW5jZSBmdXJ0aGVyIHBpY2tzIGFyZSBub3QgYWxsb3dlZC4KICBpbnB1dEVsZW1lbnQuZGlzYWJsZWQgPSB0cnVlOwoKICBpZiAoIWZpbGVzKSB7CiAgICByZXR1cm4gewogICAgICByZXNwb25zZTogewogICAgICAgIGFjdGlvbjogJ2NvbXBsZXRlJywKICAgICAgfQogICAgfTsKICB9CgogIGZvciAoY29uc3QgZmlsZSBvZiBmaWxlcykgewogICAgY29uc3QgbGkgPSBkb2N1bWVudC5jcmVhdGVFbGVtZW50KCdsaScpOwogICAgbGkuYXBwZW5kKHNwYW4oZmlsZS5uYW1lLCB7Zm9udFdlaWdodDogJ2JvbGQnfSkpOwogICAgbGkuYXBwZW5kKHNwYW4oCiAgICAgICAgYCgke2ZpbGUudHlwZSB8fCAnbi9hJ30pIC0gJHtmaWxlLnNpemV9IGJ5dGVzLCBgICsKICAgICAgICBgbGFzdCBtb2RpZmllZDogJHsKICAgICAgICAgICAgZmlsZS5sYXN0TW9kaWZpZWREYXRlID8gZmlsZS5sYXN0TW9kaWZpZWREYXRlLnRvTG9jYWxlRGF0ZVN0cmluZygpIDoKICAgICAgICAgICAgICAgICAgICAgICAgICAgICAgICAgICAgJ24vYSd9IC0gYCkpOwogICAgY29uc3QgcGVyY2VudCA9IHNwYW4oJzAlIGRvbmUnKTsKICAgIGxpLmFwcGVuZENoaWxkKHBlcmNlbnQpOwoKICAgIG91dHB1dEVsZW1lbnQuYXBwZW5kQ2hpbGQobGkpOwoKICAgIGNvbnN0IGZpbGVEYXRhUHJvbWlzZSA9IG5ldyBQcm9taXNlKChyZXNvbHZlKSA9PiB7CiAgICAgIGNvbnN0IHJlYWRlciA9IG5ldyBGaWxlUmVhZGVyKCk7CiAgICAgIHJlYWRlci5vbmxvYWQgPSAoZSkgPT4gewogICAgICAgIHJlc29sdmUoZS50YXJnZXQucmVzdWx0KTsKICAgICAgfTsKICAgICAgcmVhZGVyLnJlYWRBc0FycmF5QnVmZmVyKGZpbGUpOwogICAgfSk7CiAgICAvLyBXYWl0IGZvciB0aGUgZGF0YSB0byBiZSByZWFkeS4KICAgIGxldCBmaWxlRGF0YSA9IHlpZWxkIHsKICAgICAgcHJvbWlzZTogZmlsZURhdGFQcm9taXNlLAogICAgICByZXNwb25zZTogewogICAgICAgIGFjdGlvbjogJ2NvbnRpbnVlJywKICAgICAgfQogICAgfTsKCiAgICAvLyBVc2UgYSBjaHVua2VkIHNlbmRpbmcgdG8gYXZvaWQgbWVzc2FnZSBzaXplIGxpbWl0cy4gU2VlIGIvNjIxMTU2NjAuCiAgICBsZXQgcG9zaXRpb24gPSAwOwogICAgd2hpbGUgKHBvc2l0aW9uIDwgZmlsZURhdGEuYnl0ZUxlbmd0aCkgewogICAgICBjb25zdCBsZW5ndGggPSBNYXRoLm1pbihmaWxlRGF0YS5ieXRlTGVuZ3RoIC0gcG9zaXRpb24sIE1BWF9QQVlMT0FEX1NJWkUpOwogICAgICBjb25zdCBjaHVuayA9IG5ldyBVaW50OEFycmF5KGZpbGVEYXRhLCBwb3NpdGlvbiwgbGVuZ3RoKTsKICAgICAgcG9zaXRpb24gKz0gbGVuZ3RoOwoKICAgICAgY29uc3QgYmFzZTY0ID0gYnRvYShTdHJpbmcuZnJvbUNoYXJDb2RlLmFwcGx5KG51bGwsIGNodW5rKSk7CiAgICAgIHlpZWxkIHsKICAgICAgICByZXNwb25zZTogewogICAgICAgICAgYWN0aW9uOiAnYXBwZW5kJywKICAgICAgICAgIGZpbGU6IGZpbGUubmFtZSwKICAgICAgICAgIGRhdGE6IGJhc2U2NCwKICAgICAgICB9LAogICAgICB9OwogICAgICBwZXJjZW50LnRleHRDb250ZW50ID0KICAgICAgICAgIGAke01hdGgucm91bmQoKHBvc2l0aW9uIC8gZmlsZURhdGEuYnl0ZUxlbmd0aCkgKiAxMDApfSUgZG9uZWA7CiAgICB9CiAgfQoKICAvLyBBbGwgZG9uZS4KICB5aWVsZCB7CiAgICByZXNwb25zZTogewogICAgICBhY3Rpb246ICdjb21wbGV0ZScsCiAgICB9CiAgfTsKfQoKc2NvcGUuZ29vZ2xlID0gc2NvcGUuZ29vZ2xlIHx8IHt9OwpzY29wZS5nb29nbGUuY29sYWIgPSBzY29wZS5nb29nbGUuY29sYWIgfHwge307CnNjb3BlLmdvb2dsZS5jb2xhYi5fZmlsZXMgPSB7CiAgX3VwbG9hZEZpbGVzLAogIF91cGxvYWRGaWxlc0NvbnRpbnVlLAp9Owp9KShzZWxmKTsK",
              "ok": true,
              "headers": [
                [
                  "content-type",
                  "application/javascript"
                ]
              ],
              "status": 200,
              "status_text": ""
            }
          },
          "base_uri": "https://localhost:8080/",
          "height": 109
        },
        "outputId": "edbfdeed-3466-439a-8ddc-dedb366d52f7"
      },
      "source": [
        "from google.colab import files\n",
        "files.upload()"
      ],
      "execution_count": null,
      "outputs": [
        {
          "output_type": "display_data",
          "data": {
            "text/html": [
              "\n",
              "     <input type=\"file\" id=\"files-19037860-6aab-466b-9c74-487972a4aa6f\" name=\"files[]\" multiple disabled\n",
              "        style=\"border:none\" />\n",
              "     <output id=\"result-19037860-6aab-466b-9c74-487972a4aa6f\">\n",
              "      Upload widget is only available when the cell has been executed in the\n",
              "      current browser session. Please rerun this cell to enable.\n",
              "      </output>\n",
              "      <script src=\"/nbextensions/google.colab/files.js\"></script> "
            ],
            "text/plain": [
              "<IPython.core.display.HTML object>"
            ]
          },
          "metadata": {
            "tags": []
          }
        },
        {
          "output_type": "stream",
          "text": [
            "Saving student.xlsx to student.xlsx\n"
          ],
          "name": "stdout"
        },
        {
          "output_type": "execute_result",
          "data": {
            "text/plain": [
              "{'student.xlsx': b'PK\\x03\\x04\\x14\\x00\\x06\\x00\\x08\\x00\\x00\\x00!\\x00b\\xee\\x9dh^\\x01\\x00\\x00\\x90\\x04\\x00\\x00\\x13\\x00\\x08\\x02[Content_Types].xml \\xa2\\x04\\x02(\\xa0\\x00\\x02\\x00\\x00\\x00\\x00\\x00\\x00\\x00\\x00\\x00\\x00\\x00\\x00\\x00\\x00\\x00\\x00\\x00\\x00\\x00\\x00\\x00\\x00\\x00\\x00\\x00\\x00\\x00\\x00\\x00\\x00\\x00\\x00\\x00\\x00\\x00\\x00\\x00\\x00\\x00\\x00\\x00\\x00\\x00\\x00\\x00\\x00\\x00\\x00\\x00\\x00\\x00\\x00\\x00\\x00\\x00\\x00\\x00\\x00\\x00\\x00\\x00\\x00\\x00\\x00\\x00\\x00\\x00\\x00\\x00\\x00\\x00\\x00\\x00\\x00\\x00\\x00\\x00\\x00\\x00\\x00\\x00\\x00\\x00\\x00\\x00\\x00\\x00\\x00\\x00\\x00\\x00\\x00\\x00\\x00\\x00\\x00\\x00\\x00\\x00\\x00\\x00\\x00\\x00\\x00\\x00\\x00\\x00\\x00\\x00\\x00\\x00\\x00\\x00\\x00\\x00\\x00\\x00\\x00\\x00\\x00\\x00\\x00\\x00\\x00\\x00\\x00\\x00\\x00\\x00\\x00\\x00\\x00\\x00\\x00\\x00\\x00\\x00\\x00\\x00\\x00\\x00\\x00\\x00\\x00\\x00\\x00\\x00\\x00\\x00\\x00\\x00\\x00\\x00\\x00\\x00\\x00\\x00\\x00\\x00\\x00\\x00\\x00\\x00\\x00\\x00\\x00\\x00\\x00\\x00\\x00\\x00\\x00\\x00\\x00\\x00\\x00\\x00\\x00\\x00\\x00\\x00\\x00\\x00\\x00\\x00\\x00\\x00\\x00\\x00\\x00\\x00\\x00\\x00\\x00\\x00\\x00\\x00\\x00\\x00\\x00\\x00\\x00\\x00\\x00\\x00\\x00\\x00\\x00\\x00\\x00\\x00\\x00\\x00\\x00\\x00\\x00\\x00\\x00\\x00\\x00\\x00\\x00\\x00\\x00\\x00\\x00\\x00\\x00\\x00\\x00\\x00\\x00\\x00\\x00\\x00\\x00\\x00\\x00\\x00\\x00\\x00\\x00\\x00\\x00\\x00\\x00\\x00\\x00\\x00\\x00\\x00\\x00\\x00\\x00\\x00\\x00\\x00\\x00\\x00\\x00\\x00\\x00\\x00\\x00\\x00\\x00\\x00\\x00\\x00\\x00\\x00\\x00\\x00\\x00\\x00\\x00\\x00\\x00\\x00\\x00\\x00\\x00\\x00\\x00\\x00\\x00\\x00\\x00\\x00\\x00\\x00\\x00\\x00\\x00\\x00\\x00\\x00\\x00\\x00\\x00\\x00\\x00\\x00\\x00\\x00\\x00\\x00\\x00\\x00\\x00\\x00\\x00\\x00\\x00\\x00\\x00\\x00\\x00\\x00\\x00\\x00\\x00\\x00\\x00\\x00\\x00\\x00\\x00\\x00\\x00\\x00\\x00\\x00\\x00\\x00\\x00\\x00\\x00\\x00\\x00\\x00\\x00\\x00\\x00\\x00\\x00\\x00\\x00\\x00\\x00\\x00\\x00\\x00\\x00\\x00\\x00\\x00\\x00\\x00\\x00\\x00\\x00\\x00\\x00\\x00\\x00\\x00\\x00\\x00\\x00\\x00\\x00\\x00\\x00\\x00\\x00\\x00\\x00\\x00\\x00\\x00\\x00\\x00\\x00\\x00\\x00\\x00\\x00\\x00\\x00\\x00\\x00\\x00\\x00\\x00\\x00\\x00\\x00\\x00\\x00\\x00\\x00\\x00\\x00\\x00\\x00\\x00\\x00\\x00\\x00\\x00\\x00\\x00\\x00\\x00\\x00\\x00\\x00\\x00\\x00\\x00\\x00\\x00\\x00\\x00\\x00\\x00\\x00\\x00\\x00\\x00\\x00\\x00\\x00\\x00\\x00\\x00\\x00\\x00\\x00\\x00\\x00\\x00\\x00\\x00\\x00\\x00\\x00\\x00\\x00\\x00\\x00\\x00\\x00\\x00\\x00\\x00\\x00\\x00\\x00\\x00\\x00\\x00\\x00\\x00\\x00\\x00\\x00\\x00\\x00\\x00\\x00\\x00\\x00\\x00\\x00\\x00\\x00\\x00\\x00\\x00\\x00\\x00\\x00\\x00\\x00\\x00\\x00\\x00\\x00\\x00\\x00\\x00\\x00\\x00\\x00\\x00\\x00\\x00\\x00\\x00\\x00\\x00\\x00\\x00\\x00\\x00\\x00\\x00\\x00\\x00\\x00\\xac\\x94\\xcbN\\xc30\\x10E\\xf7H\\xfcC\\xe4-J\\xdc\\xb2@\\x085\\xed\\x82\\xc7\\x12*Q>\\xc0\\xc4\\x93\\xc6\\xaac[\\x9eii\\xff\\x9e\\x89\\xfb\\x10B\\xa1\\x15j7\\xb1\\x12\\xcf\\xdc{2\\xf1\\xcdh\\xb2nm\\xb6\\x82\\x88\\xc6\\xbbR\\x0c\\x8b\\x81\\xc8\\xc0U^\\x1b7/\\xc5\\xc7\\xec%\\xbf\\x17\\x19\\x92rZY\\xef\\xa0\\x14\\x1b@1\\x19__\\x8df\\x9b\\x00\\x98q\\xb7\\xc3R4D\\xe1AJ\\xac\\x1ah\\x15\\x16>\\x80\\xe3\\x9d\\xda\\xc7V\\x11\\xdf\\xc6\\xb9\\x0c\\xaaZ\\xa89\\xc8\\xdb\\xc1\\xe0NV\\xde\\x118\\xca\\xa9\\xd3\\x10\\xe3\\xd1\\x13\\xd4ji){^\\xf3\\xe3-I\\x04\\x8b\"{\\xdc\\x16v^\\xa5P!XS)bR\\xb9r\\xfa\\x97K\\xbes(\\xb83\\xd5`c\\x02\\xde0\\x86\\x90\\xbd\\x0e\\xdd\\xce\\xdf\\x06\\xbb\\xbe7\\x1eM4\\x1a\\xb2\\xa9\\x8a\\xf4\\xaaZ\\xc6\\x90k+\\xbf|\\\\|z\\xbf(\\x8e\\x8b\\xf4P\\xfa\\xba6\\x15h_-[\\x9e@\\x81!\\x82\\xd2\\xd8\\x00Pk\\x8b\\xb4\\x16\\xad2n\\xcf}\\xc4?\\x15\\xa3L\\xcb\\xf0\\xc2 \\xdd\\xfb%\\xe1\\x13\\x1c\\xc4\\xdf\\x1bd\\xba\\x9e\\x8f\\x90dN\\x18\"m,\\xe0\\xa5\\xc7\\x9eDO97*\\x82~\\xa7\\xc8\\xc9\\xb88\\xc0O\\xedc\\x1c|n\\xa6\\xd1\\x07\\xe4\\x04E\\xf8\\xff\\x14\\xf6\\x11\\xe9\\xba\\xf3\\xc0B\\x10\\xc9\\xc0!$}\\x87\\xed\\xe0\\xc8\\xe9;{\\xec\\xd0\\xe5[\\x83\\xee\\xf1\\x96\\xe9\\x7f2\\xfe\\x06\\x00\\x00\\xff\\xff\\x03\\x00PK\\x03\\x04\\x14\\x00\\x06\\x00\\x08\\x00\\x00\\x00!\\x00\\xb5U0#\\xf4\\x00\\x00\\x00L\\x02\\x00\\x00\\x0b\\x00\\x08\\x02_rels/.rels \\xa2\\x04\\x02(\\xa0\\x00\\x02\\x00\\x00\\x00\\x00\\x00\\x00\\x00\\x00\\x00\\x00\\x00\\x00\\x00\\x00\\x00\\x00\\x00\\x00\\x00\\x00\\x00\\x00\\x00\\x00\\x00\\x00\\x00\\x00\\x00\\x00\\x00\\x00\\x00\\x00\\x00\\x00\\x00\\x00\\x00\\x00\\x00\\x00\\x00\\x00\\x00\\x00\\x00\\x00\\x00\\x00\\x00\\x00\\x00\\x00\\x00\\x00\\x00\\x00\\x00\\x00\\x00\\x00\\x00\\x00\\x00\\x00\\x00\\x00\\x00\\x00\\x00\\x00\\x00\\x00\\x00\\x00\\x00\\x00\\x00\\x00\\x00\\x00\\x00\\x00\\x00\\x00\\x00\\x00\\x00\\x00\\x00\\x00\\x00\\x00\\x00\\x00\\x00\\x00\\x00\\x00\\x00\\x00\\x00\\x00\\x00\\x00\\x00\\x00\\x00\\x00\\x00\\x00\\x00\\x00\\x00\\x00\\x00\\x00\\x00\\x00\\x00\\x00\\x00\\x00\\x00\\x00\\x00\\x00\\x00\\x00\\x00\\x00\\x00\\x00\\x00\\x00\\x00\\x00\\x00\\x00\\x00\\x00\\x00\\x00\\x00\\x00\\x00\\x00\\x00\\x00\\x00\\x00\\x00\\x00\\x00\\x00\\x00\\x00\\x00\\x00\\x00\\x00\\x00\\x00\\x00\\x00\\x00\\x00\\x00\\x00\\x00\\x00\\x00\\x00\\x00\\x00\\x00\\x00\\x00\\x00\\x00\\x00\\x00\\x00\\x00\\x00\\x00\\x00\\x00\\x00\\x00\\x00\\x00\\x00\\x00\\x00\\x00\\x00\\x00\\x00\\x00\\x00\\x00\\x00\\x00\\x00\\x00\\x00\\x00\\x00\\x00\\x00\\x00\\x00\\x00\\x00\\x00\\x00\\x00\\x00\\x00\\x00\\x00\\x00\\x00\\x00\\x00\\x00\\x00\\x00\\x00\\x00\\x00\\x00\\x00\\x00\\x00\\x00\\x00\\x00\\x00\\x00\\x00\\x00\\x00\\x00\\x00\\x00\\x00\\x00\\x00\\x00\\x00\\x00\\x00\\x00\\x00\\x00\\x00\\x00\\x00\\x00\\x00\\x00\\x00\\x00\\x00\\x00\\x00\\x00\\x00\\x00\\x00\\x00\\x00\\x00\\x00\\x00\\x00\\x00\\x00\\x00\\x00\\x00\\x00\\x00\\x00\\x00\\x00\\x00\\x00\\x00\\x00\\x00\\x00\\x00\\x00\\x00\\x00\\x00\\x00\\x00\\x00\\x00\\x00\\x00\\x00\\x00\\x00\\x00\\x00\\x00\\x00\\x00\\x00\\x00\\x00\\x00\\x00\\x00\\x00\\x00\\x00\\x00\\x00\\x00\\x00\\x00\\x00\\x00\\x00\\x00\\x00\\x00\\x00\\x00\\x00\\x00\\x00\\x00\\x00\\x00\\x00\\x00\\x00\\x00\\x00\\x00\\x00\\x00\\x00\\x00\\x00\\x00\\x00\\x00\\x00\\x00\\x00\\x00\\x00\\x00\\x00\\x00\\x00\\x00\\x00\\x00\\x00\\x00\\x00\\x00\\x00\\x00\\x00\\x00\\x00\\x00\\x00\\x00\\x00\\x00\\x00\\x00\\x00\\x00\\x00\\x00\\x00\\x00\\x00\\x00\\x00\\x00\\x00\\x00\\x00\\x00\\x00\\x00\\x00\\x00\\x00\\x00\\x00\\x00\\x00\\x00\\x00\\x00\\x00\\x00\\x00\\x00\\x00\\x00\\x00\\x00\\x00\\x00\\x00\\x00\\x00\\x00\\x00\\x00\\x00\\x00\\x00\\x00\\x00\\x00\\x00\\x00\\x00\\x00\\x00\\x00\\x00\\x00\\x00\\x00\\x00\\x00\\x00\\x00\\x00\\x00\\x00\\x00\\x00\\x00\\x00\\x00\\x00\\x00\\x00\\x00\\x00\\x00\\x00\\x00\\x00\\x00\\x00\\x00\\x00\\x00\\x00\\x00\\x00\\x00\\x00\\x00\\x00\\x00\\x00\\x00\\x00\\x00\\x00\\x00\\x00\\x00\\x00\\x00\\x00\\x00\\x00\\x00\\x00\\x00\\x00\\x00\\x00\\x00\\x00\\x00\\x00\\x00\\x00\\x00\\x00\\x00\\x00\\x00\\x00\\x00\\x00\\x00\\x00\\x00\\xac\\x92MO\\xc30\\x0c\\x86\\xefH\\xfc\\x87\\xc8\\xf7\\xd5\\xdd\\x90\\x10BKwAH\\xbb!T~\\x80I\\xdc\\x0f\\xb5\\x8d\\xa3$\\x1b\\xdd\\xbf\\'\\x1c\\x10T\\x1a\\x83\\x03G\\x7f\\xbd~\\xfc\\xca\\xdb\\xdd<\\x8d\\xea\\xc8!\\xf6\\xe24\\xac\\x8b\\x12\\x14;#\\xb6w\\xad\\x86\\x97\\xfaqu\\x07*&r\\x96Fq\\xac\\xe1\\xc4\\x11v\\xd5\\xf5\\xd5\\xf6\\x99GJy(v\\xbd\\x8f*\\xab\\xb8\\xa8\\xa1K\\xc9\\xdf#F\\xd3\\xf1D\\xb1\\x10\\xcf.W\\x1a\\t\\x13\\xa5\\x1c\\x86\\x16=\\x99\\x81Z\\xc6MY\\xdeb\\xf8\\xae\\x01\\xd5BS\\xed\\xad\\x86\\xb0\\xb77\\xa0\\xea\\x93\\xcf\\x9b\\x7f\\xd7\\x96\\xa6\\xe9\\r?\\x889L\\xec\\xd2\\x99\\x15\\xc8sbg\\xd9\\xae|\\xc8l!\\xf5\\xf9\\x1aUSh9i\\xb0b\\x9er:\"y_dl\\xc0\\xf3D\\x9b\\xbf\\x13\\xfd|-N\\x9c\\xc8R\"4\\x12\\xf82\\xcfG\\xc7%\\xa0\\xf5\\x7fZ\\xb44\\xf1\\xcb\\x9dy\\xc47\\t\\xc3\\xab\\xc8\\xf0\\xc9\\x82\\x8b\\x1f\\xa8\\xde\\x01\\x00\\x00\\xff\\xff\\x03\\x00PK\\x03\\x04\\x14\\x00\\x06\\x00\\x08\\x00\\x00\\x00!\\x00\\x81>\\x94\\x97\\xf3\\x00\\x00\\x00\\xba\\x02\\x00\\x00\\x1a\\x00\\x08\\x01xl/_rels/workbook.xml.rels \\xa2\\x04\\x01(\\xa0\\x00\\x01\\x00\\x00\\x00\\x00\\x00\\x00\\x00\\x00\\x00\\x00\\x00\\x00\\x00\\x00\\x00\\x00\\x00\\x00\\x00\\x00\\x00\\x00\\x00\\x00\\x00\\x00\\x00\\x00\\x00\\x00\\x00\\x00\\x00\\x00\\x00\\x00\\x00\\x00\\x00\\x00\\x00\\x00\\x00\\x00\\x00\\x00\\x00\\x00\\x00\\x00\\x00\\x00\\x00\\x00\\x00\\x00\\x00\\x00\\x00\\x00\\x00\\x00\\x00\\x00\\x00\\x00\\x00\\x00\\x00\\x00\\x00\\x00\\x00\\x00\\x00\\x00\\x00\\x00\\x00\\x00\\x00\\x00\\x00\\x00\\x00\\x00\\x00\\x00\\x00\\x00\\x00\\x00\\x00\\x00\\x00\\x00\\x00\\x00\\x00\\x00\\x00\\x00\\x00\\x00\\x00\\x00\\x00\\x00\\x00\\x00\\x00\\x00\\x00\\x00\\x00\\x00\\x00\\x00\\x00\\x00\\x00\\x00\\x00\\x00\\x00\\x00\\x00\\x00\\x00\\x00\\x00\\x00\\x00\\x00\\x00\\x00\\x00\\x00\\x00\\x00\\x00\\x00\\x00\\x00\\x00\\x00\\x00\\x00\\x00\\x00\\x00\\x00\\x00\\x00\\x00\\x00\\x00\\x00\\x00\\x00\\x00\\x00\\x00\\x00\\x00\\x00\\x00\\x00\\x00\\x00\\x00\\x00\\x00\\x00\\x00\\x00\\x00\\x00\\x00\\x00\\x00\\x00\\x00\\x00\\x00\\x00\\x00\\x00\\x00\\x00\\x00\\x00\\x00\\x00\\x00\\x00\\x00\\x00\\x00\\x00\\x00\\x00\\x00\\x00\\x00\\x00\\x00\\x00\\x00\\x00\\x00\\x00\\x00\\x00\\x00\\x00\\x00\\x00\\x00\\x00\\x00\\x00\\x00\\x00\\x00\\x00\\x00\\x00\\x00\\x00\\x00\\x00\\x00\\x00\\x00\\x00\\x00\\x00\\x00\\x00\\x00\\x00\\x00\\x00\\x00\\x00\\x00\\x00\\x00\\x00\\x00\\x00\\x00\\x00\\x00\\x00\\xacRMK\\xc40\\x10\\xbd\\x0b\\xfe\\x870w\\x9bv\\x15\\x11\\xd9t/\"\\xecU\\xeb\\x0f\\x08\\xc9\\xb4)\\xdb&!3~\\xf4\\xdf\\x1b*\\xba]X\\xd6K/\\x03o\\x86y\\xef\\xcd\\xc7v\\xf75\\x0e\\xe2\\x03\\x13\\xf5\\xc1+\\xa8\\x8a\\x12\\x04z\\x13l\\xef;\\x05o\\xcd\\xf3\\xcd\\x03\\x08b\\xed\\xad\\x1e\\x82G\\x05\\x13\\x12\\xec\\xea\\xeb\\xab\\xed\\x0b\\x0e\\x9as\\x13\\xb9>\\x92\\xc8,\\x9e\\x148\\xe6\\xf8(%\\x19\\x87\\xa3\\xa6\"D\\xf4\\xb9\\xd2\\x864j\\xce0u2js\\xd0\\x1d\\xcaMY\\xde\\xcb\\xb4\\xe4\\x80\\xfa\\x84S\\xec\\xad\\x82\\xb4\\xb7\\xb7 \\x9a)f\\xe5\\xff\\xb9C\\xdb\\xf6\\x06\\x9f\\x82y\\x1f\\xd1\\xf3\\x19\\tI<\\ry\\x00\\xd1\\xe8\\xd4!+\\xf8\\xc1E\\xf6\\x08\\xf2\\xbc\\xfcfMy\\xcek\\xc1\\xa3\\xfa\\x0c\\xe5\\x1c\\xabK\\x1e\\xaa5=|\\x86t \\x87\\xc8G\\x1f\\x7f)\\x92s\\xe5\\xa2\\x99\\xbbU\\xef\\xe1tB\\xfb\\xca)\\xbf\\xdb\\xf2,\\xcb\\xf4\\xeff\\xe4\\xc9\\xc7\\xd5\\xdf\\x00\\x00\\x00\\xff\\xff\\x03\\x00PK\\x03\\x04\\x14\\x00\\x06\\x00\\x08\\x00\\x00\\x00!\\x00\\x8e\\x12\\n\\xad9\\x02\\x00\\x00\\x94\\x04\\x00\\x00\\x0f\\x00\\x00\\x00xl/workbook.xml\\xacTM\\x8f\\xd30\\x10\\xbd#\\xf1\\x1f,\\xdf\\xdb|4\\xed\\xb6Q\\xd3\\xd5\\xf6\\x03Q\\t\\xd0j\\xb7\\xec^zq\\x9dIc\\xea\\xd8\\xc1vh+\\xc4\\x7fg\\x92\\x10(\\xf4\\xb2\\x08.\\x99\\xf1\\xd7\\xcb\\x9b\\xf7<\\x9e\\xde\\x9e\\nI\\xbe\\x80\\xb1B\\xab\\x84\\x06}\\x9f\\x12P\\\\\\xa7B\\xed\\x13\\xfaq\\xf3\\xa67\\xa6\\xc4:\\xa6R&\\xb5\\x82\\x84\\x9e\\xc1\\xd2\\xdb\\xd9\\xebW\\xd3\\xa36\\x87\\x9d\\xd6\\x07\\x82\\x00\\xca&4w\\xae\\x8c=\\xcf\\xf2\\x1c\\nf\\xfb\\xba\\x04\\x85+\\x996\\x05s84{\\xcf\\x96\\x06Xjs\\x00WH/\\xf4\\xfd\\x91W0\\xa1h\\x8b\\x10\\x9b\\x97`\\xe8,\\x13\\x1c\\x96\\x9aW\\x05(\\xd7\\x82\\x18\\x90\\xcc!}\\x9b\\x8b\\xd2vh\\x05\\x7f\\t\\\\\\xc1\\xcc\\xa1*{\\\\\\x17%B\\xec\\x84\\x14\\xee\\xdc\\x80RR\\xf0x\\xbdW\\xda\\xb0\\x9d\\xc4\\xb2O\\xc1\\xb0C\\xc6\\xf4\\n\\xba\\x10\\xdch\\xab3\\xd7G(\\xaf%yUo\\xe0{A\\xd0\\x96<\\x9bfB\\xc2S+;ae\\xf9\\x81\\x15\\xf5_$%\\x92Y\\xb7J\\x85\\x834\\xa1#\\x1c\\xea#\\xfc6a\\xaar^\\t\\x89\\xabA\\x14\\x85>\\xf5f?\\xad\\xb87$\\x85\\x8cU\\xd2m\\xd0\\x84\\x0e\\x1e7\\x8e\"?\\x08\\xea\\x9dX\\xd4\\x9dt`\\x14s\\xb0\\xd0\\xca\\xa1\\x86?\\xd4\\xffW\\xbd\\x1a\\xecE\\xae\\xd1\\x1d\\xf2\\x00\\x9f+a\\x00/E-\\xdbl\\x8a_\\xc6c\\xb6\\xb3\\xf7\\xcc\\xe5\\xa422\\xa1\\xcbx\\xfb\\xe8\\xaa\\xf4L\\xde#\\x13#\\x98\\xdc\\x96F\\x7f\\x02\\xee\\xb6\\x02Y\\x99\\xc6\\xcb\\xed\\x85\\xe2\\xec\\xda\\xce\\xbf\\xd0\\x9c\\xf1\\xbax\\x0f\\xabo\\x19\\xb6\\xf9\\x9fJ\\xcc\\xa6\\xf5}~\\x12p\\xb4\\xbf4\\xad\\x87\\xe4\\xf4,T\\xaa\\x8f\\t\\xc5\\xee8_\\xe4\\xc7f\\xfaY\\xa4.Oh\\xe8G\\x13\\\\o\\xe7\\xde\\x82\\xd8\\xe7.\\xa17\\xa3\\xd6\"\\xef\\x02\\xba\\xe9\\x00\\xfcE\\x13\\x89j\\x9c\\x7f\\xac\\xbb\"\\xc0V\\xab\\xe3\\xba6\\x97\\x12\\x13\\x0bL\\xcc:m\\xac\\xf3\\xbac\\x9cI\\x8eN\\xd7\\xa1\\xd98\\n\\'\\xc1\\xa0\\xae\\x0fN\\xee\\x9duMD\\x91EB\\xbf\\x06\\x91\\x7fw\\xe3O\\xa2\\x9e\\xbf\\x1a\\x0c{\\xd1x\\x12\\xf6\\xc6\\xd1 \\xec-\\xa2e\\xb8\\x1a\\xde\\xac\\x96\\xab\\xf9\\xf0\\xdb\\xff\\xbd\\xd7\\xe8u\\xdc=\\r5\\xcb\\x9c\\x19\\xb71\\x8c\\x1f\\xf0Ay\\x80l\\xce,\\xde\\xf3\\xb6 \\xe4\\x8bFt\\xac\\xbd\\xee\\xd4\\xec;\\x00\\x00\\x00\\xff\\xff\\x03\\x00PK\\x03\\x04\\x14\\x00\\x06\\x00\\x08\\x00\\x00\\x00!\\x001\\xb6\\xf0\\xae\\xa5\\x00\\x00\\x00\\xcb\\x00\\x00\\x00\\x14\\x00\\x00\\x00xl/sharedStrings.xmlL\\x8eA\\n\\xc20\\x10E\\xf7\\x82w\\x08\\xb3\\xb7\\xa9]\\x88H\\x92.\\x04q\\xaf\\x1e \\xb4\\xa3\\r4\\x93\\x9a\\x99\\x8a\\xde\\xde\\x88\\x08.\\xdf\\xfb<\\xf8\\xa6}\\xc6Q=0sHda]\\xd5\\xa0\\x90\\xba\\xd4\\x07\\xbaY\\xb8\\x9c\\x0f\\xab-(\\x16O\\xbd\\x1f\\x13\\xa1\\x85\\x172\\xb4n\\xb90\\xcc\\xa2JKla\\x10\\x99vZs7`\\xf4\\\\\\xa5\\t\\xa9,\\xd7\\x94\\xa3\\x97\\x82\\xf9\\xa6y\\xca\\xe8{\\x1e\\x10%\\x8e\\xba\\xa9\\xeb\\x8d\\x8e>\\x10\\xa8.\\xcd$\\x16\\x1aP3\\x85\\xfb\\x8c\\xfb\\x1f;\\xc3\\xc1\\x19q\\xc74g6Z\\x9c\\xd1\\x1f\\xf1\\x95\\xa7.e\\xfc\\xb3\\xba\\x9cqo\\x00\\x00\\x00\\xff\\xff\\x03\\x00PK\\x03\\x04\\x14\\x00\\x06\\x00\\x08\\x00\\x00\\x00!\\x00u>\\x99i\\x93\\x06\\x00\\x00\\x8c\\x1a\\x00\\x00\\x13\\x00\\x00\\x00xl/theme/theme1.xml\\xecY[\\x8b\\xdbF\\x14~/\\xf4?\\x08\\xbd;\\xbeI\\xb2\\xbd\\xc4\\x1bl\\xd9N\\xda\\xec&!\\xeb\\xa4\\xe4ql\\x8f\\xad\\xc9\\x8e4F3\\xde\\x8d\\t\\x81\\x92<\\xf5\\xa5PHK_\\n}\\xebC)\\r4\\xd0\\xd0\\x97\\xfe\\x98\\x85\\x846\\xfd\\x11=3\\x92\\xad\\x99\\xf58\\x9b\\xcb\\xa6\\xb4%kX\\xa4\\xd1w\\xce|s\\xce\\xd17\\x17]\\xbct/\\xa6\\xce\\x11N9aI\\xdb\\xad^\\xa8\\xb8\\x0eN\\xc6lB\\x92Y\\xdb\\xbd5\\x1c\\x94\\x9a\\xae\\xc3\\x05J&\\x88\\xb2\\x04\\xb7\\xdd%\\xe6\\xee\\xa5\\xdd\\x8f?\\xba\\x88vD\\x84c\\xec\\x80}\\xc2wP\\xdb\\x8d\\x84\\x98\\xef\\x94\\xcb|\\x0c\\xcd\\x88_`s\\x9c\\xc0\\xb3)Kc$\\xe06\\x9d\\x95\\'):\\x06\\xbf1-\\xd7*\\x95\\xa0\\x1c#\\x92\\xb8N\\x82bp{}:%c\\xec\\x0c\\xa5Kww\\xe5\\xbcO\\xe16\\x11\\\\6\\x8ciz ]c\\xc3Ba\\'\\x87U\\x89\\xe0K\\x1e\\xd2\\xd49B\\xb4\\xedB?\\x13v<\\xc4\\xf7\\x84\\xebP\\xc4\\x05<h\\xbb\\x15\\xf5\\xe7\\x96w/\\x96\\xd1NnD\\xc5\\x16[\\xcdn\\xa0\\xfer\\xbb\\xdc`rXS}\\xa6\\xb3\\xd1\\xbaS\\xcf\\xf3\\xbd\\xa0\\xb3\\xf6\\xaf\\x00Tl\\xe2\\xfa\\x8d~\\xd0\\x0f\\xd6\\xfe\\x14\\x00\\x8d\\xc70\\xd2\\x8c\\x8b\\xee\\xd3\\xef\\xb6\\xba=?\\xc7j\\xa0\\xec\\xd2\\xe2\\xbb\\xd7\\xe8\\xd5\\xab\\x06^\\xf3_\\xdf\\xe0\\xdc\\xf1\\xe5\\xcf\\xc0+P\\xe6\\xdf\\xdb\\xc0\\x0f\\x06!D\\xd1\\xc0+P\\x86\\xf7-1i\\xd4B\\xcf\\xc0+P\\x86\\x0f6\\xf0\\x8dJ\\xa7\\xe75\\x0c\\xbc\\x02E\\x94$\\x87\\x1b\\xe8\\x8a\\x1f\\xd4\\xc3\\xd5h\\xd7\\x90)\\xa3W\\xac\\xf0\\x96\\xef\\r\\x1a\\xb5\\xdcy\\x81\\x82jXW\\x97\\xecb\\xca\\x12\\xb1\\xad\\xd6bt\\x97\\xa5\\x03\\x00H E\\x82$\\x8eX\\xce\\xf1\\x14\\x8d\\xa1\\x8aCD\\xc9(%\\xce\\x1e\\x99EPxs\\x940\\x0e\\xcd\\x95ZeP\\xa9\\xc3\\x7f\\xf9\\xf3\\xd4\\x95\\x8a\\x08\\xda\\xc1H\\xb3\\x96\\xbc\\x80\\t\\xdfh\\x92|\\x1c>N\\xc9\\\\\\xb4\\xddO\\xc1\\xab\\xabA\\x9e?{v\\xf2\\xf0\\xe9\\xc9\\xc3_O\\x1e=:y\\xf8s\\xde\\xb7re\\xd8]A\\xc9L\\xb7{\\xf9\\xc3W\\x7f}\\xf7\\xb9\\xf3\\xe7/\\xdf\\xbf|\\xfcu\\xd6\\xf5i<\\xd7\\xf1/~\\xfa\\xe2\\xc5o\\xbf\\xbf\\xca=\\x8c\\xb8\\x08\\xc5\\xf3o\\x9e\\xbcx\\xfa\\xe4\\xf9\\xb7_\\xfe\\xf1\\xe3c\\x8b\\xf7N\\x8aF:|Hb\\xcc\\x9dk\\xf8\\xd8\\xb9\\xc9b\\x18\\xa0\\x85?\\x1e\\xa5of1\\x8c\\x101,P\\x04\\xbe-\\xae\\xfb\"2\\x80\\xd7\\x96\\x88\\xdap]l\\x86\\xf0v\\n*c\\x03^^\\xdc5\\xb8\\x1eD\\xe9B\\x10K\\xcfW\\xa3\\xd8\\x00\\xee3F\\xbb,\\xb5\\x06\\xe0\\xaa\\xecK\\x8b\\xf0p\\x91\\xcc\\xec\\x9d\\xa7\\x0b\\x1dw\\x13\\xa1#[\\xdf!J\\x8c\\x04\\xf7\\x17s\\x90Wbs\\x19F\\xd8\\xa0y\\x83\\xa2D\\xa0\\x19N\\xb0p\\xe43v\\x88\\xb1etw\\x081\\xe2\\xbaO\\xc6)\\xe3l*\\x9c;\\xc4\\xe9\"b\\r\\xc9\\x90\\x8c\\x8cB*\\x8c\\xae\\x90\\x18\\xf2\\xb2\\xb4\\x11\\x84T\\x1b\\xb1\\xd9\\xbf\\xedt\\x19\\xb5\\x8d\\xba\\x87\\x8fL$\\xbc\\x16\\x88Z\\xc8\\x0f15\\xc2x\\x19-\\x04\\x8am.\\x87(\\xa6z\\xc0\\xf7\\x90\\x88l$\\x0f\\x96\\xe9X\\xc7\\xf5\\xb9\\x80L\\xcf0eN\\x7f\\x829\\xb7\\xd9\\\\Oa\\xbcZ\\xd2\\xaf\\x82\\xc2\\xd8\\xd3\\xbeO\\x97\\xb1\\x89L\\x059\\xb4\\xf9\\xdcC\\x8c\\xe9\\xc8\\x1e;\\x0c#\\x14\\xcf\\xad\\x9cI\\x12\\xe9\\xd8O\\xf8!\\x94(rn0a\\x83\\xef3\\xf3\\r\\x91\\xf7\\x90\\x07\\x94lM\\xf7m\\x82\\x8dt\\x9f-\\x04\\xb7@\\\\uJE\\x81\\xc8\\'\\x8b\\xd4\\x92\\xcb\\xcb\\x98\\x99\\xef\\xe3\\x92N\\x11V*\\x03\\xdaoHzL\\x923\\xf5\\xfd\\x94\\xb2\\xfb\\xff\\x8c\\xb2\\xdb5\\xfa\\x1c4\\xdd\\xee\\xf8]\\xd4\\xbc\\x93\\x12\\xeb;u\\xe5\\x94\\x86o\\xc3\\xfd\\x07\\x95\\xbb\\x87\\x16\\xc9\\r\\x0c/\\xcb\\xe6\\xcc\\xf5A\\xb8?\\x08\\xb7\\xfb\\xbf\\x17\\xeem\\xef\\xf2\\xf9\\xcbu\\xa1\\xd0 \\xde\\xc5Z]\\xad\\xdc\\xe3\\xad\\x0b\\xf7)\\xa1\\xf4@,)\\xde\\xe3j\\xed\\xcea^\\x9a\\x0c\\xa0Qm*\\xd4\\xcer\\xbd\\x91\\x9bGp\\x99o\\x13\\x0c\\xdc,E\\xca\\xc6I\\x99\\xf8\\x8c\\x88\\xe8 BsX\\xe0W\\xd56t\\xc6s\\xd73\\xee\\xcc\\x19\\x87u\\xbfjV\\x1bb|\\xca\\xb7\\xda=,\\xe2}6\\xc9\\xf6\\xab\\xd5\\xaa\\xdc\\x9bf\\xe2\\xc1\\x91(\\xda+\\xfe\\xba\\x1d\\xf6\\x1a\"C\\x07\\x8db\\x0f\\xb6v\\xafv\\xb53\\xb5W^\\x11\\x90\\xb6oBB\\xeb\\xcc$Q\\xb7\\x90h\\xac\\x1a!\\x0b\\xaf\"\\xa1Fv.,Z\\x16\\x16M\\xe9~\\x95\\xaaU\\x16\\xd7\\xa1\\x00j\\xeb\\xac\\xc0\\xc2\\xc9\\x81\\xe5V\\xdb\\xf5\\xbd\\xec\\x1c\\x00\\xb6T\\x88\\xe2\\x89\\xccSv$\\xb0\\xca\\xaeL\\xce\\xb9fz[0\\xa9^\\x01\\xb0\\x8aXU@\\x91\\xe9\\x96\\xe4\\xbauxrtY\\xa9\\xbdF\\xa6\\r\\x12Z\\xb9\\x99$\\xb42\\x8c\\xd0\\x04\\xe7\\xd5\\xa9\\x1f\\x9c\\x9cg\\xae[EJ\\rz2\\x14\\xab\\xb7\\xa1\\xa0\\xd1h\\xbe\\x8f\\\\K\\x119\\xa5\\r4\\xd1\\x95\\x82&\\xceq\\xdb\\r\\xea>\\x9c\\x8d\\x8d\\xd1\\xbc\\xedNa\\xdf\\x0f\\x97\\xf1\\x1cj\\x87\\xcb\\x05/\\xa238<\\x1b\\x8b4{\\xe1\\xdfFY\\xe6)\\x17=\\xc4\\xa3,\\xe0Jt25\\x88\\x89\\xc0\\xa9CI\\xdcv\\xe5\\xf0\\xd7\\xd5@\\x13\\xa5!\\x8a[\\xb5\\x06\\x82\\xf0\\xaf%\\xd7\\x02Y\\xf9\\xb7\\x91\\x83\\xa4\\x9bI\\xc6\\xd3)\\x1e\\x0b=\\xedZ\\x8b\\x8ctv\\x0b\\n\\x9fi\\x85\\xf5\\xa92\\x7f{\\xb0\\xb4d\\x0bH\\xf7A49vFt\\x91\\xdeDPb~\\xa3*\\x038!\\x1c\\x8e\\x7f\\xaaY4\\'\\x04\\xce3\\xd7BV\\xd4\\xdf\\xa9\\x89)\\x97]\\xfd@Q\\xd5P\\xd6\\x8e\\xe8<B\\xf9\\x8c\\xa2\\x8by\\x06W\"\\xba\\xa6\\xa3\\xee\\xd61\\xd0\\xee\\xf21C@7C8\\x9a\\xc9\\t\\xf6\\x9dg\\xdd\\xb3\\xa7j\\x199M4\\x8b9\\xd3P\\x159k\\xda\\xc5\\xf4\\xfdM\\xf2\\x1a\\xabb\\x125Xe\\xd2\\xad\\xb6\\r\\xbc\\xd0\\xba\\xd6J\\xeb\\xa0P\\xad\\xb3\\xc4\\x19\\xb3\\xeekL\\x08\\x1a\\xb5\\xa23\\x83\\x9ad\\xbc)\\xc3R\\xb3\\xf3V\\x93\\xda9.\\x08\\xb4H\\x04[\\xe2\\xb6\\x9e#\\xac\\x91x\\xdb\\x99\\x1f\\xecNW\\xad\\x9c V\\xebJU\\xf8\\xea\\xc3\\x87\\xfem\\x82\\x8d\\xee\\x82x\\xf4\\xe0\\x14xA\\x05W\\xa9\\x84/\\x0f)\\x82E_v\\x8e\\x9c\\xc9\\x06\\xbc\"\\xf7D\\xbeF\\x84+g\\x91\\x92\\xb6{\\xbf\\xe2w\\xbc\\xb0\\xe6\\x87\\xa5J\\xd3\\xef\\x97\\xbc\\xbaW)5\\xfdN\\xbd\\xd4\\xf1\\xfdz\\xb5\\xefW+\\xbdn\\xed\\x01L,\"\\x8a\\xab~\\xf6\\xd1e\\x00\\x07Qt\\x99\\x7fzQ\\xed\\x1b\\x9f_\\xe2\\xd5Y\\xdb\\x851\\x8b\\xcbL}^)+\\xe2\\xea\\xf3K\\xb5\\xb6\\xfd\\xf3\\x8bC@t\\xee\\x07\\xb5A\\xab\\xde\\xea\\x06\\xa5V\\xbd3(y\\xbdn\\xb3\\xd4\\n\\x83n\\xa9\\x17\\x84\\x8d\\xde\\xa0\\x17\\xfa\\xcd\\xd6\\xe0\\x81\\xeb\\x1c)\\xb0\\xd7\\xa9\\x87^\\xd0o\\x96\\x82j\\x18\\x96\\xbc\\xa0\"\\xe97[\\xa5\\x86W\\xabu\\xbcF\\xa7\\xd9\\xf7:\\x0f\\xf2e\\x0c\\x8c<\\x93\\x8f<\\x16\\x10^\\xc5k\\xf7o\\x00\\x00\\x00\\xff\\xff\\x03\\x00PK\\x03\\x04\\x14\\x00\\x06\\x00\\x08\\x00\\x00\\x00!\\x00\\xfeOZ\\x8d\\xe1\\x02\\x00\\x00\\xc0\\x06\\x00\\x00\\r\\x00\\x00\\x00xl/styles.xml\\xa4U\\xdfo\\x9b0\\x10~\\x9f\\xb4\\xff\\xc1\\xf2;\\x05\\xd3\\x90%\\x11P5M\\x91*u\\xd3\\xa4\\xb4\\xd2^\\x1d0\\xc4\\x9a\\x7f \\xe3Td\\xd3\\xfe\\xf7\\x9d\\x81\\x04\\xaav\\xd5\\xd6\\xe5!\\xf8\\x0e\\xfb\\xbb\\xfb\\xee>\\x1f\\xf1U+\\x05zb\\xa6\\xe1Z%\\x98\\\\\\x04\\x181\\x95\\xeb\\x82\\xab*\\xc1\\x8f\\x0f\\x99\\xb7\\xc0\\xa8\\xb1T\\x15Th\\xc5\\x12|d\\r\\xbeJ?~\\x88\\x1b{\\x14l\\xbbg\\xcc\"\\x80PM\\x82\\xf7\\xd6\\xd6+\\xdfo\\xf2=\\x93\\xb4\\xb9\\xd05S\\xf0\\xa6\\xd4FR\\x0b\\xa6\\xa9\\xfc\\xa66\\x8c\\x16\\x8d;$\\x85\\x1f\\x06\\xc1\\xdc\\x97\\x94+\\xdc#\\xacd\\xfe7 \\x92\\x9a\\xef\\x87\\xda\\xcb\\xb5\\xac\\xa9\\xe5;.\\xb8=vX\\x18\\xc9|uW)m\\xe8N@\\xaa-\\x99\\xd1\\x1c\\xb5dn\\xc2S\\x84\\xce\\xf5\"\\x88\\xe4\\xb9\\xd1\\x8d.\\xed\\x05\\x80\\xfa\\xba,y\\xce^\\xe6\\xba\\xf4\\x97>\\xcdG$\\x80}\\x1f\\x12\\x89\\xfc \\xec\\x89\\xa7q\\xa9\\x95mP\\xae\\x0f\\xca&8\\xc4\\xbd#\\x8d\\x9b\\x1f\\xe8\\x89\\nh\\x08\\xc1~\\x1a\\xe7Zh\\x83,\\xd4\\x15hu\\x1eE%\\xebw\\xdcP\\xc1w\\x86\\xbbm%\\x95\\\\\\x1c{w\\xe8\\x1c]+\\x86}\\x92Ca\\x9c\\xd3w!_\\xc4\\t\\xc68\\xa6\\xda%8\\xcb\\x82\\xee\\xe7\\xdcc\\xb0k\\xc3\\xa9@\\x8f\\x8a\\x83B\\x18\\xfa\\xbc\\x9d\\xe0u\\xb0\\r\\xe0r!\\x9e\\x13\\x02G\\x1aC\\xaf,3*\\x03\\x03\\r\\xeb\\x87c\\rt\\x14\\xc8\\xaa\\x87\\xe9\\xf6\\xb9\\xe3o\\xec\\xae\\x0c=\\x920\\x9a\\x1c\\xf0\\xbb\\x80i\\xbc\\xd3\\xa6\\x00\\x19\\x9fJI\\xa0\\x94\\xbd+\\x8d\\x05+-\\xd00\\xbc\\xda\\xbb\\xa7\\xd55\\xfc\\xef\\xb4\\xb5\\xd0\\xed4.8\\xad\\xb4\\xa2\\xc2\\x95\\xe6tbX\\x00\\x9d\\x9c\\t\\xb1uR\\xffV>\\xc3nK\\xa4\\x0e2\\x93\\xf6\\xaeH0\\\\\\x1aW\\xd4\\xd3\\x12(\\x0c\\xcb\\x1e\\xaf7\\x1c\\xfe\\x14\\xad\\xc7\\x9e\\xc0\\xba\\xee\\xff;,j\\xcb3\\xfe\\x9fN\\x13\\xc8\\xef\\xf5\\xa4\\xce\\xa7\\x11\\xadkq\\xcc\\x80\\x85SXo]\\x0b^)\\xc9zW\\x1a\\x83\\xd0z\\xd3\\xcd\\x0b\\xcbs\\xa7\\xcf\\x1c\\xde\\xb2^Vm9\\x10\\x04J\\x93\\xba=\\xab\\xda\\x99?r\\x9aJ\\xf0\\x177\\x1c\\x04\\xdc\\xa9\\x81\\x03\\xda\\x1d\\xb8\\xb0\\\\\\xbdR1\\xc0,\\xda\\xb1\\x07\\x9d^\\xad\\xbb\\xe8]w\\xceQ\\xa0\\x15\\x05+\\xe9A\\xd8\\x87\\xf3\\xcb\\x04\\x8f\\xeb\\xcf\\xac\\xe0\\x07\\t\\x03a\\xd8\\xf5\\x95?i\\xdbA$x\\\\\\xdf;\\xa9\\x90\\xb9\\x93\\x19k\\xed}\\x03\\xf7\\x05\\x9e\\xe8`x\\x82\\x7f\\xde\\xae?-7\\xb7Y\\xe8-\\x82\\xf5\\xc2\\x9b]\\xb2\\xc8[F\\xeb\\x8d\\x17\\xcdn\\xd6\\x9bM\\xb6\\x0c\\xc2\\xe0\\xe6\\xd7d\\xe2\\xfc\\xc7\\xbc\\xe9\\xa6#\\xa8\\x82\\xccV\\x8d\\x80\\xa9d\\x06\\xb2C\\xf2\\xdb\\xd1\\x97\\xe0\\x89\\xd1\\xa7\\xdf]\\x12H{\\x9a\\xfb2\\x9c\\x07\\xd7\\x11\\t\\xbc\\xec2 \\xdelN\\x17\\xdeb~\\x19yYD\\xc2\\xcd|\\xb6\\xbe\\x8d\\xb2h\\x92{\\xf4\\xce\\t\\x17\\xf8\\x84\\x9c&\\\\K\\xa2\\x95\\xe5\\x92\\t\\xaeN\\xbd:uh\\xea\\x85&\\x81\\xf9\\x06\\t\\xff\\xd4\\t\\x7f\\xfc\\xf4\\xa4\\xbf\\x01\\x00\\x00\\xff\\xff\\x03\\x00PK\\x03\\x04\\x14\\x00\\x06\\x00\\x08\\x00\\x00\\x00!\\x00\\x8ePP\\xaeW\\x03\\x00\\x00z\\x0b\\x00\\x00\\x18\\x00\\x00\\x00xl/worksheets/sheet1.xml\\x8c\\x96Mo\\xa30\\x10\\x86\\xef+\\xed\\x7f@\\xdc\\x0b\\x18\\x12\\x02Q\\x92\\xaa\\xddn\\xb5=\\xac\\xb4\\xda\\xaf\\xbbCL\\x82\\x02\\x98\\xb5\\xdd\\xa4\\xfd\\xf7;\\xb6C\\x1c\\xc0\\x96\\x9a\\x13\\xbc&\\x8f\\xc73\\xf3\\xda^\\xdd\\xbf5\\xb5w\"\\x8cW\\xb4]\\xfb(\\x88|\\x8f\\xb4\\x05\\xddU\\xed~\\xed\\xff\\xf9\\xfd|\\x97\\xf9\\x1e\\x17\\xb8\\xdd\\xe1\\x9a\\xb6d\\xed\\xbf\\x13\\xee\\xdfo>\\x7fZ\\x9d);\\xf2\\x03!\\xc2\\x03B\\xcb\\xd7\\xfeA\\x88n\\x19\\x86\\xbc8\\x90\\x06\\xf3\\x80v\\xa4\\x85\\x91\\x92\\xb2\\x06\\x0bxe\\xfb\\x90w\\x8c\\xe0\\x9d\\xfaSS\\x87q\\x14\\xa5a\\x83\\xab\\xd6\\xd7\\x84%\\xfb\\x08\\x83\\x96eU\\x90\\'Z\\xbc6\\xa4\\x15\\x1a\\xc2H\\x8d\\x05\\xc4\\xcf\\x0fU\\xc7{ZS|\\x04\\xd7`v|\\xed\\xee\\n\\xdat\\x80\\xd8Vu%\\xde\\x15\\xd4\\xf7\\x9ab\\xf9\\xb2o)\\xc3\\xdb\\x1a\\xd6\\xfd\\x86f\\xb8\\xe8\\xd9\\xeae\\x82o\\xaa\\x82QNK\\x11\\x00.\\xd4\\x81N\\xd7\\x9c\\x87y\\x08\\xa4\\xcdjW\\xc1\\nd\\xda=F\\xca\\xb5\\xff\\x80\\x96\\x8fq\\xea\\x87\\x9b\\x95J\\xd0\\xdf\\x8a\\x9c\\xf9\\xcd\\xb3\\'\\xf0\\xf6\\x17\\xa9I!\\xc8\\x0e\\xea\\xe4{2\\xff[J\\x8f\\xf2\\xc3\\x17\\x90\"@r\\xf5\\x81D\\xe2BT\\'\\xf2\\x85\\xd4\\xf5\\xda\\xff:\\x83\\x12\\xfeS\\x93\\xc0#L\\x10^g\\xb8}\\xeeg{V\\x15\\xfb\\xc1\\xbc\\x1d)\\xf1k-~\\xd2\\xf37R\\xed\\x0f\\x02\\xa6\\x9d_\\xe3{\\xc2\\x02oV\\x8c\\x9e=(\\x1b\\x84\\xc3;,\\x9b\\x00-c\\x88\\xa3\\x90\\xe2\\x83T\\xd5\\x18\\xfc\\x93\\x83z\\xdaD\\xab\\xf0\\x04S\\x16\\x97/\\x1e\\xe1\\x8b\\xeb\\x18\\xba\\x8e\\x85@\\xbd\\xa2c+Z\\xaa\\x12-\\xa1q0\\x1fae\\x08\\xa0;\\x88\\x89\\x95(\\xd5\\x9e8\\x0f\\xa2|\\xf0KG\\x13$j\\x82\\xd9\\xc2\\x1e\\xb2L\\xf74\\x1bR\\xed\\'H\\x82xD\\x9c\\xe9\\x90\\x1d\\xc4\\xb9\\x95(\\xd5\\x9e\\x98M\\x920W\\xc4\\x85\\xc9\\xcd \\xad\\xa9\\x95(U\\x13\\xe38\\xad\\xa9\"&\\xa6\\x88\\x03\\xe2\\xc2J\\x94jOD\\x93\\x18\\x17z\\xd5\\x0e\\xa2\\xdcy\\xa6y\\x94jO\\xcc\\x034,T2Jk\\xa6&\\xc82{\\xa1r\\xeb\\x04R5\\x9d0NB\\xae\\x88\\xa9#d\\x04\\xdb\\xa7\\xcd\\tR6\\xa5J\\xa2\\xc1\\xcf\\x14]\\xf9\\xe6\\x11 \\xb2\\x7f3G\\xff\"\\x87\\xdbz\\xbbiOL\\xa0\\x17\\xb38\\xfa\\x01\\xd9}\\xa6\\xe4>\\xf0E0\\x81j\\xa7e.\\xa8\\xddjh\\xe8\\xb5|\\xbc)hw\\xa5\\xc6\"\\x83>Cv{)\\xb9\\x8ft6\\xe94\\x18\\x96y\\x99\\xb9rjw\\x18\\xecw\\xb7\\x86\\x18w\\x17\\x0c+\\xa8+R\\xbb\\xc9\\xd0\\xad\\xcbP\\x80\\x86\\xcd`\\x02\\xbc4\\x83v\\x1dr\\xec\\x0c\\xc8n;%\\x9b\\x86\\x9b\\xa4X\\x1b/w\\xd5\\xcd\\xee<tk\\xbd\\xe9\\xae\\x0b\\xc32\\x1b\\xae\\xfd\\x01\\xd9\\xdd\\xa6d\\xb3CL\"\\xd5~\\x8bg\\x8e\\xd3\\xc1\\xee\\xb7\\xf8\\xd6oi0\\xce)\\x0c\\xcbHSGNc\\xbb\\xc1\\x94l\\xbc`\"\\xd2\\x85\\x82a\\x055+\\x18\\x9ec\\x8e\\x83lx\\x92\\x8d\\r\\x16k\\x83\\xb9r\\x1a\\xdb\\r\\xa6d\\xe3\\x05\\xb3\\xfb]\"\\xd5\\x06\\x9b\\xbbrj7X<<\\xc0&Pm\\xb0\\xc4\\xd1R\\xb1\\xdd`J\\xee#M\\x83q\\xf5aX\\xe6ta\\xce\\xdfaN\\xed\\x06\\x83[\\x94q\\xed\"\\x98D\\xaa\\x1d\\x95\\x8d\\xa1\\xfaV\\xa4\\xef5\\x1d\\xde\\x93\\xef\\x98\\xed\\xab\\x96{5)\\xe1\\x92\\x12\\x05\\xe04\\xa6\\xafA\\xeaY\\xd0N\\xa9\\xb0\\xb0-\\x15\\x826\\xfd\\xdb\\x01\\xee\\xb8\\x04\\xee?Q\\x00\\xd5))\\x15\\xfd\\x8b\\xbcy]o\\xcd\\x9b\\xff\\x00\\x00\\x00\\xff\\xff\\x03\\x00PK\\x03\\x04\\x14\\x00\\x06\\x00\\x08\\x00\\x00\\x00!\\x00L\\x9c\\x1b\\x84?\\x01\\x00\\x00c\\x02\\x00\\x00\\x11\\x00\\x08\\x01docProps/core.xml \\xa2\\x04\\x01(\\xa0\\x00\\x01\\x00\\x00\\x00\\x00\\x00\\x00\\x00\\x00\\x00\\x00\\x00\\x00\\x00\\x00\\x00\\x00\\x00\\x00\\x00\\x00\\x00\\x00\\x00\\x00\\x00\\x00\\x00\\x00\\x00\\x00\\x00\\x00\\x00\\x00\\x00\\x00\\x00\\x00\\x00\\x00\\x00\\x00\\x00\\x00\\x00\\x00\\x00\\x00\\x00\\x00\\x00\\x00\\x00\\x00\\x00\\x00\\x00\\x00\\x00\\x00\\x00\\x00\\x00\\x00\\x00\\x00\\x00\\x00\\x00\\x00\\x00\\x00\\x00\\x00\\x00\\x00\\x00\\x00\\x00\\x00\\x00\\x00\\x00\\x00\\x00\\x00\\x00\\x00\\x00\\x00\\x00\\x00\\x00\\x00\\x00\\x00\\x00\\x00\\x00\\x00\\x00\\x00\\x00\\x00\\x00\\x00\\x00\\x00\\x00\\x00\\x00\\x00\\x00\\x00\\x00\\x00\\x00\\x00\\x00\\x00\\x00\\x00\\x00\\x00\\x00\\x00\\x00\\x00\\x00\\x00\\x00\\x00\\x00\\x00\\x00\\x00\\x00\\x00\\x00\\x00\\x00\\x00\\x00\\x00\\x00\\x00\\x00\\x00\\x00\\x00\\x00\\x00\\x00\\x00\\x00\\x00\\x00\\x00\\x00\\x00\\x00\\x00\\x00\\x00\\x00\\x00\\x00\\x00\\x00\\x00\\x00\\x00\\x00\\x00\\x00\\x00\\x00\\x00\\x00\\x00\\x00\\x00\\x00\\x00\\x00\\x00\\x00\\x00\\x00\\x00\\x00\\x00\\x00\\x00\\x00\\x00\\x00\\x00\\x00\\x00\\x00\\x00\\x00\\x00\\x00\\x00\\x00\\x00\\x00\\x00\\x00\\x00\\x00\\x00\\x00\\x00\\x00\\x00\\x00\\x00\\x00\\x00\\x00\\x00\\x00\\x00\\x00\\x00\\x00\\x00\\x00\\x00\\x00\\x00\\x00\\x00\\x00\\x00\\x00\\x00\\x00\\x00\\x00\\x00\\x00\\x00\\x00\\x00\\x00\\x00\\x00\\x00\\x00\\x00\\x00\\x00\\x8c\\x92_K\\xc30\\x14\\xc5\\xdf\\x05\\xbfC\\xc9{\\x9b\\xb4\\x05)\\xa1\\xed@eO\\x0e\\x04\\'\\x8ao!\\xb9\\xdb\\x82\\xcd\\x1f\\x92h\\xb7oo\\xda\\xceZ\\x99\\x0f>\\xe6\\x9e\\x93_\\xce\\xb9\\xa4^\\x1dU\\x97|\\x82\\xf3\\xd2\\xe8\\x06\\xe5\\x19A\\thn\\x84\\xd4\\xfb\\x06=o\\xd7i\\x85\\x12\\x1f\\x98\\x16\\xac3\\x1a\\x1at\\x02\\x8fV\\xed\\xf5U\\xcd-\\xe5\\xc6\\xc1\\xa33\\x16\\\\\\x90\\xe0\\x93H\\xd2\\x9er\\xdb\\xa0C\\x08\\x96b\\xec\\xf9\\x01\\x14\\xf3Yt\\xe8(\\xee\\x8cS,\\xc4\\xa3\\xdbc\\xcb\\xf8;\\xdb\\x03.\\x08\\xb9\\xc1\\n\\x02\\x13,0<\\x00S;\\x13\\xd1\\x19)\\xf8\\x8c\\xb4\\x1f\\xae\\x1b\\x01\\x82c\\xe8@\\x81\\x0e\\x1e\\xe7Y\\x8e\\x7f\\xbc\\x01\\x9c\\xf2\\x7f^\\x18\\x95\\x85S\\xc9p\\xb2\\xb1\\xd39\\xee\\x92-\\xf8$\\xce\\xee\\xa3\\x97\\xb3\\xb1\\xef\\xfb\\xac/\\xc7\\x181\\x7f\\x8e_7\\x0fOc\\xd5T\\xeaaW\\x1cP[\\x0bN\\xb9\\x03\\x16\\x8ck7\\x92;\\xe3\\xcd.\\xd4x1\\x1d6\\xd81\\x1f6q\\xd9;\\t\\xe2\\xf6\\xb44^\\x8a\\x918\\x16\\x98\\xb0 \\x92\\x18\\x89N\\x05\\xbe\\x95\\x97\\xf2\\xee~\\xbbFmA\\n\\x92\\xe6yJ\\xca-\\xa9hQQR\\xbd\\ro\\xff\\xba?D\\x9c\\x06\\xea\\x9c\\xe0\\xdf\\xc4\\xb2\\xa4e\\xb9 ~\\x03\\xda\\x1a_|\\x8b\\xf6\\x0b\\x00\\x00\\xff\\xff\\x03\\x00PK\\x03\\x04\\x14\\x00\\x06\\x00\\x08\\x00\\x00\\x00!\\x00;\\x10=\\x92\\x8c\\x01\\x00\\x00\\x1a\\x03\\x00\\x00\\x10\\x00\\x08\\x01docProps/app.xml \\xa2\\x04\\x01(\\xa0\\x00\\x01\\x00\\x00\\x00\\x00\\x00\\x00\\x00\\x00\\x00\\x00\\x00\\x00\\x00\\x00\\x00\\x00\\x00\\x00\\x00\\x00\\x00\\x00\\x00\\x00\\x00\\x00\\x00\\x00\\x00\\x00\\x00\\x00\\x00\\x00\\x00\\x00\\x00\\x00\\x00\\x00\\x00\\x00\\x00\\x00\\x00\\x00\\x00\\x00\\x00\\x00\\x00\\x00\\x00\\x00\\x00\\x00\\x00\\x00\\x00\\x00\\x00\\x00\\x00\\x00\\x00\\x00\\x00\\x00\\x00\\x00\\x00\\x00\\x00\\x00\\x00\\x00\\x00\\x00\\x00\\x00\\x00\\x00\\x00\\x00\\x00\\x00\\x00\\x00\\x00\\x00\\x00\\x00\\x00\\x00\\x00\\x00\\x00\\x00\\x00\\x00\\x00\\x00\\x00\\x00\\x00\\x00\\x00\\x00\\x00\\x00\\x00\\x00\\x00\\x00\\x00\\x00\\x00\\x00\\x00\\x00\\x00\\x00\\x00\\x00\\x00\\x00\\x00\\x00\\x00\\x00\\x00\\x00\\x00\\x00\\x00\\x00\\x00\\x00\\x00\\x00\\x00\\x00\\x00\\x00\\x00\\x00\\x00\\x00\\x00\\x00\\x00\\x00\\x00\\x00\\x00\\x00\\x00\\x00\\x00\\x00\\x00\\x00\\x00\\x00\\x00\\x00\\x00\\x00\\x00\\x00\\x00\\x00\\x00\\x00\\x00\\x00\\x00\\x00\\x00\\x00\\x00\\x00\\x00\\x00\\x00\\x00\\x00\\x00\\x00\\x00\\x00\\x00\\x00\\x00\\x00\\x00\\x00\\x00\\x00\\x00\\x00\\x00\\x00\\x00\\x00\\x00\\x00\\x00\\x00\\x00\\x00\\x00\\x00\\x00\\x00\\x00\\x00\\x00\\x00\\x00\\x00\\x00\\x00\\x00\\x00\\x00\\x00\\x00\\x00\\x00\\x00\\x00\\x00\\x00\\x00\\x00\\x00\\x00\\x00\\x00\\x00\\x00\\x00\\x00\\x00\\x00\\x00\\x00\\x00\\x00\\x00\\x00\\x00\\x00\\x00\\x00\\x9c\\x92Ao\\xdb0\\x0c\\x85\\xef\\x03\\xf6\\x1f\\x0c\\xdd\\x1b9\\xddP\\x0c\\x81\\xacbH7\\xf4\\xb0a\\x01\\x92\\xb6gM\\xa6c\\xa1\\xb2$\\x88\\xac\\x91\\xec\\xd7\\x8f\\xb6\\x91\\xc4\\xd9v\\xda\\x8d||x\\xfaDI\\xdd\\x1f:_\\xf4\\x90\\xd1\\xc5P\\x89\\xe5\\xa2\\x14\\x05\\x04\\x1bk\\x17\\xf6\\x95x\\xda}\\xbd\\xf9$\\n$\\x13j\\xe3c\\x80J\\x1c\\x01\\xc5\\xbd~\\xffNmrL\\x90\\xc9\\x01\\x16\\x1c\\x11\\xb0\\x12-QZI\\x89\\xb6\\x85\\xce\\xe0\\x82\\xc7\\x81\\'M\\xcc\\x9d!n\\xf3^\\xc6\\xa6q\\x16\\x1e\\xa2}\\xeb \\x90\\xbc-\\xcb;\\t\\x07\\x82PC}\\x93\\xce\\x81bJ\\\\\\xf5\\xf4\\xbf\\xa1u\\xb4\\x03\\x1f>\\xef\\x8e\\x89\\x81\\xb5\\xfa\\x9c\\x92w\\xd6\\x10\\xdfR\\x7fw6G\\x8c\\r\\x15_\\x0e\\x16\\xbc\\x92\\xf3\\xa1b\\xba-\\xd8\\xb7\\xec\\xe8\\xa8K%\\xe7\\xad\\xdaZ\\xe3a\\xcd\\xc1\\xba1\\x1eA\\xc9\\x8b\\xa0\\x1e\\xc1\\x0cK\\xdb\\x18\\x97Q\\xab\\x9eV=X\\x8a\\xb9@\\xf7\\x8b\\xd7v+\\x8a\\x9f\\x06a\\xc0\\xa9Do\\xb23\\x81\\x18k\\xb0M\\xcdX\\xfb\\x84\\x94\\xf5K\\xcc\\xaf\\xd8\\x02\\x10*\\xc9\\x86I\\x1c\\xcb\\xb9w^\\xbb\\x8fz9\\x1a\\xb8\\xb86\\x0e\\x01\\x13\\x08\\x0f\\xae\\x11w\\x8e<\\xe0\\x8ffc2\\xfd\\x83x9\\'\\x1e\\x19&\\xde\\tg;\\xf0Mg\\xce\\xf9\\xc6+\\xf3I\\x7fd\\xafc\\x97L8^6\\xaf\\xe4IR\\xdf\\\\x\\xc5\\xa7\\xb4\\x8b\\x0f\\x86\\xe0\\xb4\\xd7kQm[\\x93\\xa1\\xe6\\xa78\\xef\\xfd,\\xa8G^i\\xf6C\\xc8\\xba5a\\x0f\\xf5\\xc9\\xf3\\xf7`\\xf8\\x05\\xcf\\xd3W\\xd7\\xcb\\xbbE\\xf9\\xa1\\xe4\\x07\\x9eiJ^>\\xb5\\xfe\\r\\x00\\x00\\xff\\xff\\x03\\x00PK\\x01\\x02-\\x00\\x14\\x00\\x06\\x00\\x08\\x00\\x00\\x00!\\x00b\\xee\\x9dh^\\x01\\x00\\x00\\x90\\x04\\x00\\x00\\x13\\x00\\x00\\x00\\x00\\x00\\x00\\x00\\x00\\x00\\x00\\x00\\x00\\x00\\x00\\x00\\x00\\x00[Content_Types].xmlPK\\x01\\x02-\\x00\\x14\\x00\\x06\\x00\\x08\\x00\\x00\\x00!\\x00\\xb5U0#\\xf4\\x00\\x00\\x00L\\x02\\x00\\x00\\x0b\\x00\\x00\\x00\\x00\\x00\\x00\\x00\\x00\\x00\\x00\\x00\\x00\\x00\\x97\\x03\\x00\\x00_rels/.relsPK\\x01\\x02-\\x00\\x14\\x00\\x06\\x00\\x08\\x00\\x00\\x00!\\x00\\x81>\\x94\\x97\\xf3\\x00\\x00\\x00\\xba\\x02\\x00\\x00\\x1a\\x00\\x00\\x00\\x00\\x00\\x00\\x00\\x00\\x00\\x00\\x00\\x00\\x00\\xbc\\x06\\x00\\x00xl/_rels/workbook.xml.relsPK\\x01\\x02-\\x00\\x14\\x00\\x06\\x00\\x08\\x00\\x00\\x00!\\x00\\x8e\\x12\\n\\xad9\\x02\\x00\\x00\\x94\\x04\\x00\\x00\\x0f\\x00\\x00\\x00\\x00\\x00\\x00\\x00\\x00\\x00\\x00\\x00\\x00\\x00\\xef\\x08\\x00\\x00xl/workbook.xmlPK\\x01\\x02-\\x00\\x14\\x00\\x06\\x00\\x08\\x00\\x00\\x00!\\x001\\xb6\\xf0\\xae\\xa5\\x00\\x00\\x00\\xcb\\x00\\x00\\x00\\x14\\x00\\x00\\x00\\x00\\x00\\x00\\x00\\x00\\x00\\x00\\x00\\x00\\x00U\\x0b\\x00\\x00xl/sharedStrings.xmlPK\\x01\\x02-\\x00\\x14\\x00\\x06\\x00\\x08\\x00\\x00\\x00!\\x00u>\\x99i\\x93\\x06\\x00\\x00\\x8c\\x1a\\x00\\x00\\x13\\x00\\x00\\x00\\x00\\x00\\x00\\x00\\x00\\x00\\x00\\x00\\x00\\x00,\\x0c\\x00\\x00xl/theme/theme1.xmlPK\\x01\\x02-\\x00\\x14\\x00\\x06\\x00\\x08\\x00\\x00\\x00!\\x00\\xfeOZ\\x8d\\xe1\\x02\\x00\\x00\\xc0\\x06\\x00\\x00\\r\\x00\\x00\\x00\\x00\\x00\\x00\\x00\\x00\\x00\\x00\\x00\\x00\\x00\\xf0\\x12\\x00\\x00xl/styles.xmlPK\\x01\\x02-\\x00\\x14\\x00\\x06\\x00\\x08\\x00\\x00\\x00!\\x00\\x8ePP\\xaeW\\x03\\x00\\x00z\\x0b\\x00\\x00\\x18\\x00\\x00\\x00\\x00\\x00\\x00\\x00\\x00\\x00\\x00\\x00\\x00\\x00\\xfc\\x15\\x00\\x00xl/worksheets/sheet1.xmlPK\\x01\\x02-\\x00\\x14\\x00\\x06\\x00\\x08\\x00\\x00\\x00!\\x00L\\x9c\\x1b\\x84?\\x01\\x00\\x00c\\x02\\x00\\x00\\x11\\x00\\x00\\x00\\x00\\x00\\x00\\x00\\x00\\x00\\x00\\x00\\x00\\x00\\x89\\x19\\x00\\x00docProps/core.xmlPK\\x01\\x02-\\x00\\x14\\x00\\x06\\x00\\x08\\x00\\x00\\x00!\\x00;\\x10=\\x92\\x8c\\x01\\x00\\x00\\x1a\\x03\\x00\\x00\\x10\\x00\\x00\\x00\\x00\\x00\\x00\\x00\\x00\\x00\\x00\\x00\\x00\\x00\\xff\\x1b\\x00\\x00docProps/app.xmlPK\\x05\\x06\\x00\\x00\\x00\\x00\\n\\x00\\n\\x00\\x80\\x02\\x00\\x00\\xc1\\x1e\\x00\\x00\\x00\\x00'}"
            ]
          },
          "metadata": {
            "tags": []
          },
          "execution_count": 2
        }
      ]
    },
    {
      "cell_type": "code",
      "metadata": {
        "id": "7VbPliphq0RH",
        "colab": {
          "base_uri": "https://localhost:8080/",
          "height": 359
        },
        "outputId": "edd84958-a07b-488c-a645-9e9dfc1c6ba1"
      },
      "source": [
        "data = pd.read_excel('student.xlsx')\n",
        "data.head(10)"
      ],
      "execution_count": null,
      "outputs": [
        {
          "output_type": "execute_result",
          "data": {
            "text/html": [
              "<div>\n",
              "<style scoped>\n",
              "    .dataframe tbody tr th:only-of-type {\n",
              "        vertical-align: middle;\n",
              "    }\n",
              "\n",
              "    .dataframe tbody tr th {\n",
              "        vertical-align: top;\n",
              "    }\n",
              "\n",
              "    .dataframe thead th {\n",
              "        text-align: right;\n",
              "    }\n",
              "</style>\n",
              "<table border=\"1\" class=\"dataframe\">\n",
              "  <thead>\n",
              "    <tr style=\"text-align: right;\">\n",
              "      <th></th>\n",
              "      <th>Hours</th>\n",
              "      <th>Scores</th>\n",
              "    </tr>\n",
              "  </thead>\n",
              "  <tbody>\n",
              "    <tr>\n",
              "      <th>0</th>\n",
              "      <td>2.5</td>\n",
              "      <td>21</td>\n",
              "    </tr>\n",
              "    <tr>\n",
              "      <th>1</th>\n",
              "      <td>5.1</td>\n",
              "      <td>47</td>\n",
              "    </tr>\n",
              "    <tr>\n",
              "      <th>2</th>\n",
              "      <td>3.2</td>\n",
              "      <td>27</td>\n",
              "    </tr>\n",
              "    <tr>\n",
              "      <th>3</th>\n",
              "      <td>8.5</td>\n",
              "      <td>75</td>\n",
              "    </tr>\n",
              "    <tr>\n",
              "      <th>4</th>\n",
              "      <td>3.5</td>\n",
              "      <td>30</td>\n",
              "    </tr>\n",
              "    <tr>\n",
              "      <th>5</th>\n",
              "      <td>1.5</td>\n",
              "      <td>20</td>\n",
              "    </tr>\n",
              "    <tr>\n",
              "      <th>6</th>\n",
              "      <td>9.2</td>\n",
              "      <td>88</td>\n",
              "    </tr>\n",
              "    <tr>\n",
              "      <th>7</th>\n",
              "      <td>5.5</td>\n",
              "      <td>60</td>\n",
              "    </tr>\n",
              "    <tr>\n",
              "      <th>8</th>\n",
              "      <td>8.3</td>\n",
              "      <td>81</td>\n",
              "    </tr>\n",
              "    <tr>\n",
              "      <th>9</th>\n",
              "      <td>2.7</td>\n",
              "      <td>25</td>\n",
              "    </tr>\n",
              "  </tbody>\n",
              "</table>\n",
              "</div>"
            ],
            "text/plain": [
              "   Hours  Scores\n",
              "0    2.5      21\n",
              "1    5.1      47\n",
              "2    3.2      27\n",
              "3    8.5      75\n",
              "4    3.5      30\n",
              "5    1.5      20\n",
              "6    9.2      88\n",
              "7    5.5      60\n",
              "8    8.3      81\n",
              "9    2.7      25"
            ]
          },
          "metadata": {
            "tags": []
          },
          "execution_count": 3
        }
      ]
    },
    {
      "cell_type": "code",
      "metadata": {
        "id": "dBBIpPLdrtHU",
        "colab": {
          "base_uri": "https://localhost:8080/",
          "height": 296
        },
        "outputId": "27412dd7-c4be-41cb-c601-e984a8f5235f"
      },
      "source": [
        "plt.scatter(data['Hours'],data['Scores'])\n",
        "plt.xlabel('Hours')\n",
        "plt.ylabel('Scores')"
      ],
      "execution_count": null,
      "outputs": [
        {
          "output_type": "execute_result",
          "data": {
            "text/plain": [
              "Text(0, 0.5, 'Scores')"
            ]
          },
          "metadata": {
            "tags": []
          },
          "execution_count": 4
        },
        {
          "output_type": "display_data",
          "data": {
            "image/png": "[encoded data removed]",
            "text/plain": [
              "<Figure size 432x288 with 1 Axes>"
            ]
          },
          "metadata": {
            "tags": [],
            "needs_background": "light"
          }
        }
      ]
    },
    {
      "cell_type": "code",
      "metadata": {
        "id": "IBloLz7FdePT",
        "colab": {
          "base_uri": "https://localhost:8080/"
        },
        "outputId": "d86eb0a5-929d-4991-9f8d-6bb155e69ab2"
      },
      "source": [
        "X = data.iloc[:,:-1]\n",
        "y = data.iloc[:,1]\n",
        "a= data['Hours']\n",
        "b=data['Scores']\n",
        "print(X.shape)\n",
        "print(y.shape)\n",
        "print(a.shape)\n",
        "print(b.shape)"
      ],
      "execution_count": null,
      "outputs": [
        {
          "output_type": "stream",
          "text": [
            "(25, 1)\n",
            "(25,)\n",
            "(25,)\n",
            "(25,)\n"
          ],
          "name": "stdout"
        }
      ]
    },
    {
      "cell_type": "code",
      "metadata": {
        "id": "rKHU-DVDsES0"
      },
      "source": [
        "X_train,X_test,y_train,y_test=train_test_split(X,y,random_state=0)"
      ],
      "execution_count": null,
      "outputs": []
    },
    {
      "cell_type": "code",
      "metadata": {
        "id": "0E2RAURD1_E6",
        "colab": {
          "base_uri": "https://localhost:8080/"
        },
        "outputId": "d0f29414-8914-4a7b-8ae3-fdc86889b8e6"
      },
      "source": [
        "from sklearn.linear_model import LinearRegression\n",
        "LR = LinearRegression()\n",
        "LR.fit(X_train,y_train)"
      ],
      "execution_count": null,
      "outputs": [
        {
          "output_type": "execute_result",
          "data": {
            "text/plain": [
              "LinearRegression(copy_X=True, fit_intercept=True, n_jobs=None, normalize=False)"
            ]
          },
          "metadata": {
            "tags": []
          },
          "execution_count": 7
        }
      ]
    },
    {
      "cell_type": "code",
      "metadata": {
        "id": "Gb0EnfywbwBt",
        "colab": {
          "base_uri": "https://localhost:8080/"
        },
        "outputId": "803e08e2-f7b6-451e-e874-1008337b2c3a"
      },
      "source": [
        "print(X.shape,y.shape,LR.coef_.shape,LR.intercept_.shape)\n",
        "print(LR.coef_)\n",
        "print(LR.intercept_)"
      ],
      "execution_count": null,
      "outputs": [
        {
          "output_type": "stream",
          "text": [
            "(25, 1) (25,) (1,) ()\n",
            "[9.94167834]\n",
            "1.9322042531516601\n"
          ],
          "name": "stdout"
        }
      ]
    },
    {
      "cell_type": "code",
      "metadata": {
        "id": "cvyHNg2b9cG3"
      },
      "source": [
        "line = LR.coef_*X+LR.intercept_"
      ],
      "execution_count": null,
      "outputs": []
    },
    {
      "cell_type": "code",
      "metadata": {
        "id": "CEdFHUJqY5jH",
        "colab": {
          "base_uri": "https://localhost:8080/",
          "height": 282
        },
        "outputId": "4a8a89fb-d7e1-4dba-d54c-986639986ffb"
      },
      "source": [
        "plt.scatter(X,y)\n",
        "plt.scatter(X,line,marker='+',color='red')"
      ],
      "execution_count": null,
      "outputs": [
        {
          "output_type": "execute_result",
          "data": {
            "text/plain": [
              "<matplotlib.collections.PathCollection at 0x7f6753368748>"
            ]
          },
          "metadata": {
            "tags": []
          },
          "execution_count": 10
        },
        {
          "output_type": "display_data",
          "data": {
            "image/png": "[encoded data removed]",
            "text/plain": [
              "<Figure size 432x288 with 1 Axes>"
            ]
          },
          "metadata": {
            "tags": [],
            "needs_background": "light"
          }
        }
      ]
    },
    {
      "cell_type": "code",
      "metadata": {
        "id": "LrxjD1cCavkz",
        "colab": {
          "base_uri": "https://localhost:8080/"
        },
        "outputId": "ed2595ae-1601-4ed9-a08f-f7a4c2ab1493"
      },
      "source": [
        "print(X_test)\n",
        "predict = LR.predict(X_test)\n",
        "predict"
      ],
      "execution_count": null,
      "outputs": [
        {
          "output_type": "stream",
          "text": [
            "    Hours\n",
            "5     1.5\n",
            "2     3.2\n",
            "19    7.4\n",
            "16    2.5\n",
            "11    5.9\n",
            "22    3.8\n",
            "17    1.9\n"
          ],
          "name": "stdout"
        },
        {
          "output_type": "execute_result",
          "data": {
            "text/plain": [
              "array([16.84472176, 33.74557494, 75.50062397, 26.7864001 , 60.58810646,\n",
              "       39.71058194, 20.8213931 ])"
            ]
          },
          "metadata": {
            "tags": []
          },
          "execution_count": 11
        }
      ]
    },
    {
      "cell_type": "code",
      "metadata": {
        "id": "Yyyo6uXdiMII",
        "colab": {
          "base_uri": "https://localhost:8080/",
          "height": 283
        },
        "outputId": "c530de7d-8a9e-40c3-c640-26ba3b4979e7"
      },
      "source": [
        "print(X_test.shape,y_test.shape)\n",
        "pr = pd.DataFrame({'Actual':y_test,'Predict':predict})\n",
        "pr"
      ],
      "execution_count": null,
      "outputs": [
        {
          "output_type": "stream",
          "text": [
            "(7, 1) (7,)\n"
          ],
          "name": "stdout"
        },
        {
          "output_type": "execute_result",
          "data": {
            "text/html": [
              "<div>\n",
              "<style scoped>\n",
              "    .dataframe tbody tr th:only-of-type {\n",
              "        vertical-align: middle;\n",
              "    }\n",
              "\n",
              "    .dataframe tbody tr th {\n",
              "        vertical-align: top;\n",
              "    }\n",
              "\n",
              "    .dataframe thead th {\n",
              "        text-align: right;\n",
              "    }\n",
              "</style>\n",
              "<table border=\"1\" class=\"dataframe\">\n",
              "  <thead>\n",
              "    <tr style=\"text-align: right;\">\n",
              "      <th></th>\n",
              "      <th>Actual</th>\n",
              "      <th>Predict</th>\n",
              "    </tr>\n",
              "  </thead>\n",
              "  <tbody>\n",
              "    <tr>\n",
              "      <th>5</th>\n",
              "      <td>20</td>\n",
              "      <td>16.844722</td>\n",
              "    </tr>\n",
              "    <tr>\n",
              "      <th>2</th>\n",
              "      <td>27</td>\n",
              "      <td>33.745575</td>\n",
              "    </tr>\n",
              "    <tr>\n",
              "      <th>19</th>\n",
              "      <td>69</td>\n",
              "      <td>75.500624</td>\n",
              "    </tr>\n",
              "    <tr>\n",
              "      <th>16</th>\n",
              "      <td>30</td>\n",
              "      <td>26.786400</td>\n",
              "    </tr>\n",
              "    <tr>\n",
              "      <th>11</th>\n",
              "      <td>62</td>\n",
              "      <td>60.588106</td>\n",
              "    </tr>\n",
              "    <tr>\n",
              "      <th>22</th>\n",
              "      <td>35</td>\n",
              "      <td>39.710582</td>\n",
              "    </tr>\n",
              "    <tr>\n",
              "      <th>17</th>\n",
              "      <td>24</td>\n",
              "      <td>20.821393</td>\n",
              "    </tr>\n",
              "  </tbody>\n",
              "</table>\n",
              "</div>"
            ],
            "text/plain": [
              "    Actual    Predict\n",
              "5       20  16.844722\n",
              "2       27  33.745575\n",
              "19      69  75.500624\n",
              "16      30  26.786400\n",
              "11      62  60.588106\n",
              "22      35  39.710582\n",
              "17      24  20.821393"
            ]
          },
          "metadata": {
            "tags": []
          },
          "execution_count": 12
        }
      ]
    },
    {
      "cell_type": "code",
      "metadata": {
        "id": "MYwtdXXJMGB1",
        "colab": {
          "base_uri": "https://localhost:8080/"
        },
        "outputId": "a1656398-c9d7-4931-a21d-27bf02752990"
      },
      "source": [
        "hour = [[9.25]]\n",
        "score = LR.predict(hour)\n",
        "print('Prediced score: ',score)"
      ],
      "execution_count": null,
      "outputs": [
        {
          "output_type": "stream",
          "text": [
            "Prediced score:  [93.89272889]\n"
          ],
          "name": "stdout"
        }
      ]
    },
    {
      "cell_type": "code",
      "metadata": {
        "id": "Z4L3vYE8DgUv"
      },
      "source": [
        ""
      ],
      "execution_count": null,
      "outputs": []
    }
  ]
}